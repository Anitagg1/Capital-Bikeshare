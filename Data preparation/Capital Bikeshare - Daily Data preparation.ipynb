{
  "nbformat": 4,
  "nbformat_minor": 0,
  "metadata": {
    "colab": {
      "name": "Untitled1.ipynb",
      "provenance": [],
      "include_colab_link": true
    },
    "kernelspec": {
      "name": "python3",
      "display_name": "Python 3"
    }
  },
  "cells": [
    {
      "cell_type": "markdown",
      "metadata": {
        "id": "view-in-github",
        "colab_type": "text"
      },
      "source": [
        "<a href=\"https://colab.research.google.com/github/Anitagg1/Capital-Bikeshare/blob/main/Capital%20Bikeshare%20Daily%20data%20preparation.ipynb\" target=\"_parent\"><img src=\"https://colab.research.google.com/assets/colab-badge.svg\" alt=\"Open In Colab\"/></a>"
      ]
    },
    {
      "cell_type": "code",
      "metadata": {
        "id": "EcFaMTupj6LF"
      },
      "source": [
        "import pandas as pd\n",
        "import numpy as np\n",
        "import seaborn as sns\n",
        "import matplotlib.pyplot as plt\n"
      ],
      "execution_count": 2,
      "outputs": []
    },
    {
      "cell_type": "code",
      "metadata": {
        "id": "vaDY6Y-G3M9i"
      },
      "source": [
        "\n",
        "bike_day = pd.read_csv(\"day.csv\")"
      ],
      "execution_count": 5,
      "outputs": []
    },
    {
      "cell_type": "code",
      "metadata": {
        "colab": {
          "base_uri": "https://localhost:8080/"
        },
        "id": "pd0Vs5rOkdFO",
        "outputId": "706fe7a9-2231-4130-8428-6f35d1d3c472"
      },
      "source": [
        "bike_day.info()"
      ],
      "execution_count": 6,
      "outputs": [
        {
          "output_type": "stream",
          "text": [
            "<class 'pandas.core.frame.DataFrame'>\n",
            "RangeIndex: 731 entries, 0 to 730\n",
            "Data columns (total 16 columns):\n",
            " #   Column      Non-Null Count  Dtype  \n",
            "---  ------      --------------  -----  \n",
            " 0   instant     731 non-null    int64  \n",
            " 1   dteday      731 non-null    object \n",
            " 2   season      731 non-null    int64  \n",
            " 3   yr          731 non-null    int64  \n",
            " 4   mnth        731 non-null    int64  \n",
            " 5   holiday     731 non-null    int64  \n",
            " 6   weekday     731 non-null    int64  \n",
            " 7   workingday  731 non-null    int64  \n",
            " 8   weathersit  731 non-null    int64  \n",
            " 9   temp        731 non-null    float64\n",
            " 10  atemp       731 non-null    float64\n",
            " 11  hum         731 non-null    float64\n",
            " 12  windspeed   731 non-null    float64\n",
            " 13  casual      731 non-null    int64  \n",
            " 14  registered  731 non-null    int64  \n",
            " 15  cnt         731 non-null    int64  \n",
            "dtypes: float64(4), int64(11), object(1)\n",
            "memory usage: 91.5+ KB\n"
          ],
          "name": "stdout"
        }
      ]
    },
    {
      "cell_type": "code",
      "metadata": {
        "id": "eW262qzSlY1l"
      },
      "source": [
        "bike_day.rename(columns={'dteday' : 'daytime', 'yr' : 'year', 'mnth' : 'month'}, inplace=True)"
      ],
      "execution_count": 7,
      "outputs": []
    },
    {
      "cell_type": "code",
      "metadata": {
        "colab": {
          "base_uri": "https://localhost:8080/"
        },
        "id": "3vKYsOOQnvZe",
        "outputId": "0c708a48-ef56-45a8-990c-9f81bfac4a99"
      },
      "source": [
        "bike_day.isnull().sum()"
      ],
      "execution_count": 8,
      "outputs": [
        {
          "output_type": "execute_result",
          "data": {
            "text/plain": [
              "instant       0\n",
              "daytime       0\n",
              "season        0\n",
              "year          0\n",
              "month         0\n",
              "holiday       0\n",
              "weekday       0\n",
              "workingday    0\n",
              "weathersit    0\n",
              "temp          0\n",
              "atemp         0\n",
              "hum           0\n",
              "windspeed     0\n",
              "casual        0\n",
              "registered    0\n",
              "cnt           0\n",
              "dtype: int64"
            ]
          },
          "metadata": {
            "tags": []
          },
          "execution_count": 8
        }
      ]
    },
    {
      "cell_type": "code",
      "metadata": {
        "id": "ton8E4GGoeIL"
      },
      "source": [
        "bike_day[\"daytime\"]= pd.to_datetime(bike_day[\"daytime\"]) "
      ],
      "execution_count": 9,
      "outputs": []
    },
    {
      "cell_type": "code",
      "metadata": {
        "id": "NKvvr9z9qnqj"
      },
      "source": [
        "bike_day.loc[bike_day['year'] == 1, 'year'] = '2012'\n",
        "bike_day.loc[bike_day['year'] == 0, 'year'] = '2011'"
      ],
      "execution_count": 10,
      "outputs": []
    },
    {
      "cell_type": "code",
      "metadata": {
        "id": "xu4DPRct-Hwl"
      },
      "source": [
        "bike_day.loc[bike_day['season'] == 1, 'season'] = 'Spring'\n",
        "bike_day.loc[bike_day['season'] == 2, 'season'] = 'Summer'\n",
        "bike_day.loc[bike_day['season'] == 3, 'season'] = 'Fall'\n",
        "bike_day.loc[bike_day['season'] == 4, 'season'] = 'Winter'"
      ],
      "execution_count": 11,
      "outputs": []
    },
    {
      "cell_type": "code",
      "metadata": {
        "id": "OGgWvxi3s0a5"
      },
      "source": [
        "bike_day.loc[bike_day['weekday'] == 1, 'weekday'] = 'Monday'\n",
        "bike_day.loc[bike_day['weekday'] == 2, 'weekday'] = 'Tuesday'\n",
        "bike_day.loc[bike_day['weekday'] == 3, 'weekday'] = 'Wednesday'\n",
        "bike_day.loc[bike_day['weekday'] == 4, 'weekday'] = 'Thursday'\n",
        "bike_day.loc[bike_day['weekday'] == 5, 'weekday'] = 'Friday'\n",
        "bike_day.loc[bike_day['weekday'] == 6, 'weekday'] = 'Saturday'\n",
        "bike_day.loc[bike_day['weekday'] == 0, 'weekday'] = 'Sunday'"
      ],
      "execution_count": 12,
      "outputs": []
    },
    {
      "cell_type": "code",
      "metadata": {
        "id": "-5zczPLh_Hir"
      },
      "source": [
        "bike_day.loc[bike_day['season'] == 1, 'season'] = 'Winter'\n",
        "bike_day.loc[bike_day['season'] == 2, 'season'] = 'Spring'\n",
        "bike_day.loc[bike_day['season'] == 3, 'season'] = 'Summer'\n",
        "bike_day.loc[bike_day['season'] == 4, 'season'] = 'Fall'"
      ],
      "execution_count": 13,
      "outputs": []
    },
    {
      "cell_type": "code",
      "metadata": {
        "id": "VquFY8qG_jLF"
      },
      "source": [
        "bike_day.loc[bike_day['holiday'] == 0, 'holiday'] = 'no'\n",
        "bike_day.loc[bike_day['holiday'] == 1, 'holiday'] = 'yes'  "
      ],
      "execution_count": 14,
      "outputs": []
    },
    {
      "cell_type": "code",
      "metadata": {
        "id": "GfTyVtIOALk6"
      },
      "source": [
        "bike_day.loc[bike_day['weathersit'] == 1, 'weathersit'] = 'clear'\n",
        "bike_day.loc[bike_day['weathersit'] == 2, 'weathersit'] = 'cloudy'\n",
        "bike_day.loc[bike_day['weathersit'] == 3, 'weathersit'] = 'LRain'\n",
        "bike_day.loc[bike_day['weathersit'] == 4, 'weathersit'] = 'Snow'"
      ],
      "execution_count": 15,
      "outputs": []
    },
    {
      "cell_type": "code",
      "metadata": {
        "id": "4KDekk-4BdUg"
      },
      "source": [
        "for col in ['season', 'holiday', 'weekday', 'workingday', 'weathersit', 'temp', 'atemp', 'hum', 'windspeed', 'casual', 'registered', 'cnt']:\n",
        "   bike_day[col] = bike_day[col].astype('category')"
      ],
      "execution_count": 16,
      "outputs": []
    },
    {
      "cell_type": "code",
      "metadata": {
        "id": "MgteCn9pNxCj"
      },
      "source": [
        "bike_day.to_csv('bike_day.csv')"
      ],
      "execution_count": 19,
      "outputs": []
    }
  ]
}
